{
 "cells": [
  {
   "cell_type": "markdown",
   "metadata": {},
   "source": [
    "# SI630 Homework 2: Word2vec Vector Analysis\n",
    "\n",
    "*Important Note:* Start this notebook only after you've gotten your word2vec model up and running!\n",
    "\n",
    "Many NLP packages support working with word embeddings. In this notebook you can work through the various problems assigned in Task 3. We've provided the basic functionality for loading word vectors using [Gensim](https://radimrehurek.com/gensim/models/keyedvectors.html), a good library for learning and using word vectors, and for working with the vectors. \n",
    "\n",
    "One of the fun parts of word vectors is getting a sense of what they learned. Feel free to explore the vectors here! "
   ]
  },
  {
   "cell_type": "code",
   "execution_count": 2,
   "metadata": {},
   "outputs": [],
   "source": [
    "from gensim.models import KeyedVectors\n",
    "from gensim.test.utils import datapath"
   ]
  },
  {
   "cell_type": "code",
   "execution_count": 3,
   "metadata": {},
   "outputs": [],
   "source": [
    "word_vectors = KeyedVectors.load_word2vec_format('word2vec.model', binary=False)"
   ]
  },
  {
   "cell_type": "code",
   "execution_count": 4,
   "metadata": {},
   "outputs": [
    {
     "data": {
      "text/plain": [
       "array([ 0.11915206, -0.2660798 , -0.1652657 , -0.05161493,  0.2435247 ,\n",
       "       -0.3030489 ,  0.2768412 ,  0.41115546, -0.07299754,  0.01791481,\n",
       "       -0.27362794, -0.02124321,  0.01442826, -0.32215527,  0.24857023,\n",
       "        0.474356  ,  0.08727265, -0.05100843,  0.13536362,  0.18577234,\n",
       "        0.32735744,  0.18903305,  0.1479427 , -0.5728586 , -0.39428508,\n",
       "        0.17749551, -0.16158901,  0.52492464,  0.2558871 ,  0.11004454,\n",
       "       -0.1218022 ,  0.20420828,  0.03270411, -0.31208888,  0.05910456,\n",
       "       -0.39418015,  0.00400522,  0.23638767, -0.11413377,  0.39749822,\n",
       "        0.3422272 , -0.42400768,  0.3060461 , -0.21752852, -0.32223547,\n",
       "        0.10897624, -0.18982811, -0.10203362, -0.43909493, -0.635448  ],\n",
       "      dtype=float32)"
      ]
     },
     "execution_count": 4,
     "metadata": {},
     "output_type": "execute_result"
    }
   ],
   "source": [
    "word_vectors['the']"
   ]
  },
  {
   "cell_type": "code",
   "execution_count": 5,
   "metadata": {},
   "outputs": [
    {
     "data": {
      "text/plain": [
       "[('novels', 0.8264256119728088),\n",
       " ('titles', 0.7614558935165405),\n",
       " ('trilogies', 0.7099784016609192),\n",
       " ('volumes', 0.7054171562194824),\n",
       " ('cookbooks', 0.6956678628921509),\n",
       " ('works', 0.6955475211143494),\n",
       " ('installments', 0.6582188606262207),\n",
       " ('editions', 0.6549322605133057),\n",
       " ('writings', 0.6473384499549866),\n",
       " ('cussler', 0.646592915058136)]"
      ]
     },
     "execution_count": 5,
     "metadata": {},
     "output_type": "execute_result"
    }
   ],
   "source": [
    "word_vectors.similar_by_word(\"books\")"
   ]
  },
  {
   "cell_type": "code",
   "execution_count": 6,
   "metadata": {},
   "outputs": [
    {
     "data": {
      "text/plain": [
       "[('woman', 0.931229829788208),\n",
       " ('guy', 0.816426694393158),\n",
       " ('brat', 0.7884238958358765),\n",
       " ('lady', 0.7869123220443726),\n",
       " ('girl', 0.7704609036445618),\n",
       " ('dude', 0.7536880373954773),\n",
       " ('hero', 0.7448360323905945),\n",
       " ('sociopath', 0.7446333765983582),\n",
       " ('mother', 0.7365652322769165),\n",
       " ('liar', 0.7322386503219604)]"
      ]
     },
     "execution_count": 6,
     "metadata": {},
     "output_type": "execute_result"
    }
   ],
   "source": [
    "word_vectors.similar_by_word(\"man\")"
   ]
  },
  {
   "cell_type": "code",
   "execution_count": 7,
   "metadata": {},
   "outputs": [
    {
     "data": {
      "text/plain": [
       "[('jerk', 0.7843864560127258),\n",
       " ('brat', 0.77913498878479),\n",
       " ('needy', 0.7699372172355652),\n",
       " ('creature', 0.7694665789604187),\n",
       " ('liar', 0.7614653706550598),\n",
       " ('spirited', 0.7558118104934692),\n",
       " ('whiner', 0.7499629855155945),\n",
       " ('woman', 0.748286783695221),\n",
       " ('twit', 0.7451518177986145),\n",
       " ('man', 0.7446333765983582)]"
      ]
     },
     "execution_count": 7,
     "metadata": {},
     "output_type": "execute_result"
    }
   ],
   "source": [
    "word_vectors.similar_by_word(\"sociopath\")"
   ]
  },
  {
   "cell_type": "code",
   "execution_count": 8,
   "metadata": {},
   "outputs": [
    {
     "data": {
      "text/plain": [
       "[('gumbo', 0.9029666781425476),\n",
       " ('heri', 0.8980500102043152),\n",
       " ('widen', 0.8917925357818604),\n",
       " ('megs', 0.8888866901397705),\n",
       " ('spiralizer', 0.8710681200027466),\n",
       " ('bunkers', 0.8705559372901917),\n",
       " ('enclosingclass', 0.8693130016326904),\n",
       " ('zbrush', 0.8679787516593933),\n",
       " ('druids', 0.8652822375297546),\n",
       " ('shibori', 0.8642132878303528)]"
      ]
     },
     "execution_count": 8,
     "metadata": {},
     "output_type": "execute_result"
    }
   ],
   "source": [
    "word_vectors.similar_by_word(\"naysayers\")"
   ]
  },
  {
   "cell_type": "code",
   "execution_count": 21,
   "metadata": {},
   "outputs": [
    {
     "data": {
      "text/plain": [
       "[('official', 0.7738515734672546),\n",
       " ('deluxe', 0.7710457444190979),\n",
       " ('penguin', 0.7669421434402466),\n",
       " ('abridged', 0.7472771406173706),\n",
       " ('oxford', 0.7461093068122864),\n",
       " ('ios', 0.7448734045028687),\n",
       " ('gallery', 0.7400112748146057),\n",
       " ('pmbok', 0.7350084185600281),\n",
       " ('dover', 0.731015145778656),\n",
       " ('niv', 0.7278552651405334)]"
      ]
     },
     "execution_count": 21,
     "metadata": {},
     "output_type": "execute_result"
    }
   ],
   "source": [
    "word_vectors.similar_by_word(\"encyclopedia\")"
   ]
  },
  {
   "cell_type": "code",
   "execution_count": 11,
   "metadata": {},
   "outputs": [
    {
     "data": {
      "text/plain": [
       "[('kirjan', 0.9205788969993591),\n",
       " ('troma', 0.9205721020698547),\n",
       " ('picasa', 0.9205293655395508),\n",
       " ('heyday', 0.9172726273536682),\n",
       " ('chopin', 0.9165875315666199),\n",
       " ('banta', 0.912399411201477),\n",
       " ('lss', 0.9113625884056091),\n",
       " ('immaterial', 0.9109283089637756),\n",
       " ('elca', 0.908858597278595),\n",
       " ('f16', 0.9081685543060303)]"
      ]
     },
     "execution_count": 11,
     "metadata": {},
     "output_type": "execute_result"
    }
   ],
   "source": [
    "word_vectors.similar_by_word(\"yolo\")"
   ]
  },
  {
   "cell_type": "code",
   "execution_count": 12,
   "metadata": {},
   "outputs": [
    {
     "data": {
      "text/plain": [
       "[('decent', 0.8435683250427246),\n",
       " ('great', 0.8414424657821655),\n",
       " ('nice', 0.7411026954650879),\n",
       " ('fine', 0.73228520154953),\n",
       " ('cool', 0.7321640253067017),\n",
       " ('fantastic', 0.6785083413124084),\n",
       " ('terrific', 0.6653244495391846),\n",
       " ('fair', 0.653289258480072),\n",
       " ('classy', 0.6434581279754639),\n",
       " ('ok', 0.6409410238265991)]"
      ]
     },
     "execution_count": 12,
     "metadata": {},
     "output_type": "execute_result"
    }
   ],
   "source": [
    "word_vectors.similar_by_word(\"good\")"
   ]
  },
  {
   "cell_type": "code",
   "execution_count": 13,
   "metadata": {},
   "outputs": [
    {
     "data": {
      "text/plain": [
       "[('pda', 0.7693768739700317),\n",
       " ('phone', 0.7437511682510376),\n",
       " ('desk', 0.7422249913215637),\n",
       " ('diaper', 0.7408233880996704),\n",
       " ('syllabus', 0.7386147975921631),\n",
       " ('iphone', 0.7363147139549255),\n",
       " ('mac', 0.7342032790184021),\n",
       " ('ipod', 0.7333636283874512),\n",
       " ('motorola', 0.7314191460609436),\n",
       " ('1400', 0.7278674840927124)]"
      ]
     },
     "execution_count": 13,
     "metadata": {},
     "output_type": "execute_result"
    }
   ],
   "source": [
    "word_vectors.similar_by_word(\"laptop\")"
   ]
  },
  {
   "cell_type": "code",
   "execution_count": 14,
   "metadata": {},
   "outputs": [
    {
     "data": {
      "text/plain": [
       "[('fiction', 0.7921172380447388),\n",
       " ('literary', 0.781862199306488),\n",
       " ('historical', 0.753501832485199),\n",
       " ('theology', 0.6962541937828064),\n",
       " ('philosophy', 0.6877635717391968),\n",
       " ('literature', 0.6846946477890015),\n",
       " ('psychological', 0.6808465123176575),\n",
       " ('revisionist', 0.6803188323974609),\n",
       " ('history', 0.6747714281082153),\n",
       " ('christian', 0.6683502197265625)]"
      ]
     },
     "execution_count": 14,
     "metadata": {},
     "output_type": "execute_result"
    }
   ],
   "source": [
    "word_vectors.similar_by_word(\"science\")"
   ]
  },
  {
   "cell_type": "code",
   "execution_count": 15,
   "metadata": {},
   "outputs": [
    {
     "data": {
      "text/plain": [
       "[('christianity', 0.8492634892463684),\n",
       " ('society', 0.8282133340835571),\n",
       " ('human', 0.787686288356781),\n",
       " ('ignorance', 0.7833125591278076),\n",
       " ('existence', 0.7799559235572815),\n",
       " ('philosophy', 0.7743450999259949),\n",
       " ('faith', 0.7676420211791992),\n",
       " ('politics', 0.7644748687744141),\n",
       " ('lifestyle', 0.759239137172699),\n",
       " ('illness', 0.7592096924781799)]"
      ]
     },
     "execution_count": 15,
     "metadata": {},
     "output_type": "execute_result"
    }
   ],
   "source": [
    "word_vectors.similar_by_word(\"religion\")"
   ]
  },
  {
   "cell_type": "code",
   "execution_count": 11,
   "metadata": {},
   "outputs": [],
   "source": [
    "def get_analogy(a, b, c):\n",
    "    return word_vectors.most_similar(positive=[b, c], negative=[a])[0][0]"
   ]
  },
  {
   "cell_type": "code",
   "execution_count": 12,
   "metadata": {},
   "outputs": [
    {
     "data": {
      "text/plain": [
       "'tom'"
      ]
     },
     "execution_count": 12,
     "metadata": {},
     "output_type": "execute_result"
    }
   ],
   "source": [
    "get_analogy('man', 'woman', 'king')"
   ]
  },
  {
   "cell_type": "code",
   "execution_count": 147,
   "metadata": {},
   "outputs": [
    {
     "data": {
      "text/plain": [
       "'greatest'"
      ]
     },
     "execution_count": 147,
     "metadata": {},
     "output_type": "execute_result"
    }
   ],
   "source": [
    "get_analogy('bad', 'good', 'worst')"
   ]
  },
  {
   "cell_type": "code",
   "execution_count": 108,
   "metadata": {},
   "outputs": [
    {
     "data": {
      "text/plain": [
       "'booklet'"
      ]
     },
     "execution_count": 108,
     "metadata": {},
     "output_type": "execute_result"
    }
   ],
   "source": [
    "get_analogy('chapter', 'page', 'book')"
   ]
  },
  {
   "cell_type": "code",
   "execution_count": 52,
   "metadata": {},
   "outputs": [
    {
     "data": {
      "text/plain": [
       "'woman'"
      ]
     },
     "execution_count": 52,
     "metadata": {},
     "output_type": "execute_result"
    }
   ],
   "source": [
    "get_analogy(\"boy\", \"girl\", \"man\")"
   ]
  },
  {
   "cell_type": "code",
   "execution_count": 175,
   "metadata": {},
   "outputs": [
    {
     "data": {
      "text/plain": [
       "'camel'"
      ]
     },
     "execution_count": 175,
     "metadata": {},
     "output_type": "execute_result"
    }
   ],
   "source": [
    "get_analogy(\"water\", \"road\", \"yacht\")"
   ]
  },
  {
   "cell_type": "code",
   "execution_count": 133,
   "metadata": {},
   "outputs": [
    {
     "data": {
      "text/plain": [
       "'relaxing'"
      ]
     },
     "execution_count": 133,
     "metadata": {},
     "output_type": "execute_result"
    }
   ],
   "source": [
    "get_analogy(\"traffic\", \"clean\", \"mumbai\")"
   ]
  },
  {
   "cell_type": "code",
   "execution_count": 144,
   "metadata": {},
   "outputs": [
    {
     "data": {
      "text/plain": [
       "'woman'"
      ]
     },
     "execution_count": 144,
     "metadata": {},
     "output_type": "execute_result"
    }
   ],
   "source": [
    "get_analogy(\"boy\", \"girl\", \"man\")"
   ]
  },
  {
   "cell_type": "code",
   "execution_count": 241,
   "metadata": {},
   "outputs": [
    {
     "data": {
      "text/plain": [
       "'policy'"
      ]
     },
     "execution_count": 241,
     "metadata": {},
     "output_type": "execute_result"
    }
   ],
   "source": [
    "get_analogy(\"shooting\", \"education\", \"texas\")"
   ]
  },
  {
   "cell_type": "code",
   "execution_count": 245,
   "metadata": {},
   "outputs": [
    {
     "data": {
      "text/plain": [
       "'washington'"
      ]
     },
     "execution_count": 245,
     "metadata": {},
     "output_type": "execute_result"
    }
   ],
   "source": [
    "get_analogy(\"crocodile\", \"dog\", \"florida\")"
   ]
  },
  {
   "cell_type": "code",
   "execution_count": null,
   "metadata": {},
   "outputs": [],
   "source": []
  }
 ],
 "metadata": {
  "kernelspec": {
   "display_name": "Python 3 (ipykernel)",
   "language": "python",
   "name": "python3"
  },
  "language_info": {
   "codemirror_mode": {
    "name": "ipython",
    "version": 3
   },
   "file_extension": ".py",
   "mimetype": "text/x-python",
   "name": "python",
   "nbconvert_exporter": "python",
   "pygments_lexer": "ipython3",
   "version": "3.8.16"
  }
 },
 "nbformat": 4,
 "nbformat_minor": 2
}
